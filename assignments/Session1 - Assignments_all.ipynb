{
 "cells": [
  {
   "cell_type": "markdown",
   "id": "c067dcd9",
   "metadata": {},
   "source": [
    "### Q1. Create a list of five integers and print it."
   ]
  },
  {
   "cell_type": "code",
   "execution_count": 1,
   "id": "19a0e252",
   "metadata": {},
   "outputs": [
    {
     "name": "stdout",
     "output_type": "stream",
     "text": [
      "[1, 4, 7, 9, 10, 100]\n"
     ]
    }
   ],
   "source": [
    "nums= [ 1, 4 ,7,9,10,100]\n",
    "print(nums)"
   ]
  },
  {
   "cell_type": "markdown",
   "id": "a2d05fd3",
   "metadata": {},
   "source": [
    "### Q2. Write a program to find the length of a list."
   ]
  },
  {
   "cell_type": "code",
   "execution_count": 2,
   "id": "6b75c5d1",
   "metadata": {},
   "outputs": [
    {
     "name": "stdout",
     "output_type": "stream",
     "text": [
      "The Length of the list is 7\n"
     ]
    }
   ],
   "source": [
    "list_1=[1,4,2,4,7,5,8]\n",
    "length=len(list_1)\n",
    "print(\"The Length of the list is\" , length)"
   ]
  },
  {
   "cell_type": "markdown",
   "id": "c705d6ac",
   "metadata": {},
   "source": [
    "### Q3. Create a tuple with three elements and print the second item."
   ]
  },
  {
   "cell_type": "code",
   "execution_count": 3,
   "id": "61c1e11e",
   "metadata": {},
   "outputs": [
    {
     "name": "stdout",
     "output_type": "stream",
     "text": [
      "engineer\n"
     ]
    }
   ],
   "source": [
    "tuple_1=('dentist','engineer','architecture')\n",
    "print(tuple_1[1])"
   ]
  },
  {
   "cell_type": "markdown",
   "id": "a3fb1843",
   "metadata": {},
   "source": [
    "### Q4. Create a dictionary with 3 key-value pairs and print all keys."
   ]
  },
  {
   "cell_type": "code",
   "execution_count": 15,
   "id": "c588c043",
   "metadata": {},
   "outputs": [
    {
     "name": "stdout",
     "output_type": "stream",
     "text": [
      "dict_keys(['name', 'age', 'major'])\n"
     ]
    }
   ],
   "source": [
    "dictionary_1={\n",
    "    'name' : 'Jana',\n",
    "     'age' : 21,\n",
    "     'major' : 'ML Engineer'\n",
    "} \n",
    "print(dictionary_1.keys())"
   ]
  },
  {
   "cell_type": "code",
   "execution_count": null,
   "id": "27d2b0c6",
   "metadata": {},
   "outputs": [
    {
     "name": "stdout",
     "output_type": "stream",
     "text": [
      "name\n",
      "age\n",
      "major\n"
     ]
    }
   ],
   "source": [
    "dictionary= {\n",
    "    'name': 'Nada',\n",
    "    'age': 22,\n",
    "    'major': 'Data Engineer'\n",
    "}\n",
    "\n",
    "for key in dictionary.keys():\n",
    "    print(key)"
   ]
  },
  {
   "cell_type": "markdown",
   "id": "499c5644",
   "metadata": {},
   "source": [
    "### Q5. Write a program to convert a list into a set."
   ]
  },
  {
   "cell_type": "code",
   "execution_count": 20,
   "id": "5b3e7b61",
   "metadata": {},
   "outputs": [
    {
     "name": "stdout",
     "output_type": "stream",
     "text": [
      "{1, 3, 4, 5, 6}\n"
     ]
    }
   ],
   "source": [
    "list_2=[1,3,4,5,5,6,6,6]\n",
    "set_1=set(list_2)\n",
    "print(set_1)"
   ]
  },
  {
   "cell_type": "markdown",
   "id": "a0e55b4f",
   "metadata": {},
   "source": [
    "### Q6. Create a string and print its first and last characters."
   ]
  },
  {
   "cell_type": "code",
   "execution_count": 21,
   "id": "b5cc0d08",
   "metadata": {},
   "outputs": [
    {
     "name": "stdout",
     "output_type": "stream",
     "text": [
      "First character: M\n",
      "Last character: g\n"
     ]
    }
   ],
   "source": [
    "text_1 = \"Machine Learning\"\n",
    "print(\"First character:\", text_1[0])\n",
    "print(\"Last character:\", text_1[-1])\n"
   ]
  },
  {
   "cell_type": "markdown",
   "id": "f4adb032",
   "metadata": {},
   "source": [
    "### Q7. Take input from the user and print it."
   ]
  },
  {
   "cell_type": "code",
   "execution_count": null,
   "id": "cc325325",
   "metadata": {},
   "outputs": [],
   "source": [
    "get_input=input(\"write a input here\")\n",
    "print(\"your input\", get_input)"
   ]
  },
  {
   "cell_type": "markdown",
   "id": "32003cd3",
   "metadata": {},
   "source": [
    "### Q8. Write a program to add two numbers entered by the user."
   ]
  },
  {
   "cell_type": "code",
   "execution_count": null,
   "id": "1cce015b",
   "metadata": {},
   "outputs": [],
   "source": [
    "num_1=float(input(\"enter the 1st number\"))\n",
    "num_2=float(input(\"enter the 2nd number\"))\n",
    "result= num_1 + num_2\n",
    "print(\"the summition of 2 numbers are\" , result)"
   ]
  },
  {
   "cell_type": "markdown",
   "id": "7eb34a32",
   "metadata": {},
   "source": [
    "### Q9. Use `type()` function to check the data type of a variable."
   ]
  },
  {
   "cell_type": "code",
   "execution_count": 1,
   "id": "cfd2011d",
   "metadata": {},
   "outputs": [
    {
     "name": "stdout",
     "output_type": "stream",
     "text": [
      "<class 'int'>\n",
      "<class 'float'>\n",
      "<class 'str'>\n"
     ]
    }
   ],
   "source": [
    "x=30\n",
    "print(type(x))\n",
    "y=10.8\n",
    "print(type(y))\n",
    "z = \"hello\"\n",
    "print(type(z))"
   ]
  },
  {
   "cell_type": "markdown",
   "id": "be64d8e2",
   "metadata": {},
   "source": [
    "### Q10. Create a boolean variable and print it."
   ]
  },
  {
   "cell_type": "code",
   "execution_count": 2,
   "id": "46812973",
   "metadata": {},
   "outputs": [
    {
     "name": "stdout",
     "output_type": "stream",
     "text": [
      "True\n",
      "False\n"
     ]
    }
   ],
   "source": [
    "online=True\n",
    "print(online)\n",
    "offline=False\n",
    "print(offline)"
   ]
  },
  {
   "cell_type": "markdown",
   "id": "53765968",
   "metadata": {},
   "source": [
    "### Q11. Check if a number is positive, negative, or zero using `if` statement."
   ]
  },
  {
   "cell_type": "code",
   "execution_count": null,
   "id": "0623e6d5",
   "metadata": {},
   "outputs": [],
   "source": [
    "num=float(input(\"Enter a Number : \"))\n",
    "if num > 0:\n",
    "    print(\"This Number is a Positive Number\")\n",
    "elif num <0:\n",
    "    print (\"This number is -ve number\")\n",
    "else:\n",
    "    print(\"The number is zero \")"
   ]
  },
  {
   "cell_type": "markdown",
   "id": "79b115a2",
   "metadata": {},
   "source": [
    "### Q12. Write a program to check if a number is even or odd."
   ]
  },
  {
   "cell_type": "code",
   "execution_count": null,
   "id": "efcc28dc",
   "metadata": {},
   "outputs": [],
   "source": [
    "num = int(input(\"Enter a number: \"))\n",
    "if num % 2 == 0:\n",
    "    print(\"Even\")\n",
    "else:\n",
    "    print(\"Odd\")"
   ]
  },
  {
   "cell_type": "markdown",
   "id": "4e15996d",
   "metadata": {},
   "source": [
    "### Q13. Write a program that prints your name 3 times using a `for` loop."
   ]
  },
  {
   "cell_type": "code",
   "execution_count": null,
   "id": "a213b9fd",
   "metadata": {},
   "outputs": [],
   "source": [
    "for i in range(3):\n",
    "    print(\"Jana\")"
   ]
  },
  {
   "cell_type": "markdown",
   "id": "3deb94cc",
   "metadata": {},
   "source": [
    "### Q14. Write a `for` loop that prints numbers from 1 to 10."
   ]
  },
  {
   "cell_type": "code",
   "execution_count": null,
   "id": "2f806196",
   "metadata": {},
   "outputs": [],
   "source": [
    "for i in range(1,11):\n",
    "    print(i)"
   ]
  },
  {
   "cell_type": "markdown",
   "id": "ede90dd1",
   "metadata": {},
   "source": [
    "### Q15. Use a `for` loop to iterate over a list and print each element."
   ]
  },
  {
   "cell_type": "code",
   "execution_count": null,
   "id": "ca9ff07e",
   "metadata": {},
   "outputs": [],
   "source": [
    "List_3=['Nada', 'Jana','Menna']\n",
    "for item in List_3:\n",
    "    print(item)"
   ]
  },
  {
   "cell_type": "markdown",
   "id": "850c2ca8",
   "metadata": {},
   "source": [
    "### Q16. Write a program to calculate the sum of numbers from 1 to 100."
   ]
  },
  {
   "cell_type": "code",
   "execution_count": null,
   "id": "16a8cd5c",
   "metadata": {},
   "outputs": [],
   "source": [
    "Summition = 0\n",
    "for i in range(1, 101):\n",
    "    Summition = Summition + i\n",
    "\n",
    "print(\"The sum is:\", Summition)"
   ]
  },
  {
   "cell_type": "markdown",
   "id": "6250746b",
   "metadata": {},
   "source": [
    "### Q17. Write a `for` loop that prints only even numbers from 1 to 20."
   ]
  },
  {
   "cell_type": "code",
   "execution_count": null,
   "id": "2764eb99",
   "metadata": {},
   "outputs": [],
   "source": [
    "for i in range(1, 21):\n",
    "    if i % 2 == 0:\n",
    "        print(i)"
   ]
  },
  {
   "cell_type": "code",
   "execution_count": null,
   "id": "262813ec",
   "metadata": {},
   "outputs": [],
   "source": [
    "for i in range(2, 21, 2):\n",
    "    print(i)"
   ]
  },
  {
   "cell_type": "markdown",
   "id": "3b2408b5",
   "metadata": {},
   "source": [
    "### Q18. Write a `for` loop to print each character in a string."
   ]
  },
  {
   "cell_type": "code",
   "execution_count": null,
   "id": "fc73c912",
   "metadata": {},
   "outputs": [],
   "source": [
    "text_x = \"Hello, world!\"\n",
    "\n",
    "for char in text_x:\n",
    "    print(char)"
   ]
  },
  {
   "cell_type": "markdown",
   "id": "c75cb287",
   "metadata": {},
   "source": [
    "### Q19. Use a `for` loop to print all values in a dictionary."
   ]
  },
  {
   "cell_type": "code",
   "execution_count": null,
   "id": "62d9d757",
   "metadata": {},
   "outputs": [],
   "source": [
    "diction2 ={\n",
    "    'name': 'Nada',\n",
    "    'age' : 20,\n",
    "    'major' : 'medicine'\n",
    "}\n",
    "for value in diction2.values():\n",
    "    print(value)"
   ]
  },
  {
   "cell_type": "markdown",
   "id": "6994e4ca",
   "metadata": {},
   "source": [
    "### Q20. Write a program that uses a `for` loop to find the factorial of a number."
   ]
  },
  {
   "cell_type": "code",
   "execution_count": null,
   "id": "254cb435",
   "metadata": {},
   "outputs": [],
   "source": [
    "num = int(input(\"Enter a number: \"))\n",
    "factorial = 1\n",
    "\n",
    "for i in range(1, num + 1):\n",
    "    factorial *= i\n",
    "\n",
    "print(\"the factorial is:\", factorial)\n"
   ]
  },
  {
   "cell_type": "markdown",
   "id": "92d3b300",
   "metadata": {},
   "source": [
    "### Q21. Create a list of your 5 favorite fruits."
   ]
  },
  {
   "cell_type": "code",
   "execution_count": null,
   "id": "3f2d07e3",
   "metadata": {},
   "outputs": [],
   "source": [
    "list_fav=['Strawberries','Grapes','Mango','Apples','Bananas']\n",
    "print(list_fav)"
   ]
  },
  {
   "cell_type": "markdown",
   "id": "e3433500",
   "metadata": {},
   "source": [
    "### Q22. Add a new fruit to your list of favorite fruits."
   ]
  },
  {
   "cell_type": "code",
   "execution_count": null,
   "id": "f9ffd8d2",
   "metadata": {},
   "outputs": [],
   "source": [
    "list_fav=['Strawberries','Grapes','Mango','Apples','Bananas']\n",
    "list_fav.append(\"Pineapple\")\n",
    "print(list_fav)"
   ]
  },
  {
   "cell_type": "markdown",
   "id": "a33917e4",
   "metadata": {},
   "source": [
    "### Q23. Remove the second item from a list."
   ]
  },
  {
   "cell_type": "code",
   "execution_count": null,
   "id": "0fac364c",
   "metadata": {},
   "outputs": [],
   "source": [
    "list_fav=['Strawberries','Grapes','Mango','Apples','Bananas']\n",
    "list_fav.pop(1)0\n",
    "\n",
    "print(list_fav)"
   ]
  },
  {
   "cell_type": "markdown",
   "id": "497047c6",
   "metadata": {},
   "source": [
    "### Q24. Sort a list of numbers in descending order."
   ]
  },
  {
   "cell_type": "code",
   "execution_count": null,
   "id": "b9717e06",
   "metadata": {},
   "outputs": [],
   "source": [
    "nums = [5, 2, 9, 1, 7]\n",
    "nums.sort(reverse=True)\n",
    "print(nums)"
   ]
  },
  {
   "cell_type": "markdown",
   "id": "6a3a29ad",
   "metadata": {},
   "source": [
    "### Q25. Find the maximum and minimum values in a list."
   ]
  },
  {
   "cell_type": "code",
   "execution_count": null,
   "id": "82cc41dd",
   "metadata": {},
   "outputs": [],
   "source": [
    "nums = [8, 3, 15, 6, 2]\n",
    "\n",
    "maximum = max(nums)\n",
    "minimum = min(nums)\n",
    "\n",
    "print(\"Maximum:\", maximum)\n",
    "print(\"Minimum:\", minimum)"
   ]
  },
  {
   "cell_type": "markdown",
   "id": "a5077085",
   "metadata": {},
   "source": [
    "### Q26. Count how many times a value appears in a list."
   ]
  },
  {
   "cell_type": "code",
   "execution_count": null,
   "id": "5953d267",
   "metadata": {},
   "outputs": [],
   "source": [
    "numbers = [4, 2, 7, 4, 2, 4, 9]\n",
    "count_of_4 = numbers.count(4)\n",
    "\n",
    "print(\"Number 4 appears\", count_of_4, \"times.\")\n"
   ]
  },
  {
   "cell_type": "markdown",
   "id": "e767871e",
   "metadata": {},
   "source": [
    "### Q27. Check if a specific value exists in a list."
   ]
  },
  {
   "cell_type": "code",
   "execution_count": null,
   "id": "97bb90bd",
   "metadata": {},
   "outputs": [],
   "source": [
    "num = [10, 20, 30, 40, 50]\n",
    "\n",
    "if 30 in num:\n",
    "    print(\"30 is in the list.\")\n",
    "else:\n",
    "    print(\"30 is not in the list.\")\n"
   ]
  },
  {
   "cell_type": "markdown",
   "id": "346632ba",
   "metadata": {},
   "source": [
    "### Q28. Reverse a list without using reverse() function."
   ]
  },
  {
   "cell_type": "code",
   "execution_count": null,
   "id": "663befc6",
   "metadata": {},
   "outputs": [],
   "source": [
    "numbers = [1, 2, 3, 4, 5]\n",
    "reversed_list = numbers[::-1]\n",
    "print(reversed_list)"
   ]
  },
  {
   "cell_type": "markdown",
   "id": "4f28f319",
   "metadata": {},
   "source": [
    "### Q29. Make a copy of a list and modify the copy only."
   ]
  },
  {
   "cell_type": "code",
   "execution_count": null,
   "id": "e665fc96",
   "metadata": {},
   "outputs": [],
   "source": [
    "original = [10, 20, 30]\n",
    "copy_list = original.copy()\n",
    "\n",
    "copy_list.remove(20)\n",
    "\n",
    "print(\"Original:\", original)\n",
    "print(\"Copy:\", copy_list)"
   ]
  },
  {
   "cell_type": "markdown",
   "id": "4fd7ffdf",
   "metadata": {},
   "source": [
    "### Q30. Use slicing to get the first 3 items of a list."
   ]
  },
  {
   "cell_type": "code",
   "execution_count": 2,
   "id": "5109bd94",
   "metadata": {},
   "outputs": [
    {
     "name": "stdout",
     "output_type": "stream",
     "text": [
      "[10, 20, 30]\n"
     ]
    }
   ],
   "source": [
    "nums = [10, 20, 30, 40, 50]\n",
    "first_three = nums[:3]\n",
    "\n",
    "print(first_three)\n"
   ]
  },
  {
   "cell_type": "markdown",
   "id": "fa7d8cbc",
   "metadata": {},
   "source": [
    "### Q31. Create a tuple with 4 elements and print its length."
   ]
  },
  {
   "cell_type": "code",
   "execution_count": 3,
   "id": "1d519f4c",
   "metadata": {},
   "outputs": [
    {
     "name": "stdout",
     "output_type": "stream",
     "text": [
      "Length of the tuple: 4\n"
     ]
    }
   ],
   "source": [
    "tuple = ('apple', 'banana', 'cherry', 'date')\n",
    "print(\"Length of the tuple:\", len(tuple))\n"
   ]
  },
  {
   "cell_type": "markdown",
   "id": "1fc14e2a",
   "metadata": {},
   "source": [
    "### Q32. Access the last element of a tuple."
   ]
  },
  {
   "cell_type": "code",
   "execution_count": 4,
   "id": "924f8f7f",
   "metadata": {},
   "outputs": [
    {
     "name": "stdout",
     "output_type": "stream",
     "text": [
      "Last element: yellow\n"
     ]
    }
   ],
   "source": [
    "my_tuple = ('red', 'green', 'blue', 'yellow')\n",
    "last_element = my_tuple[-1]\n",
    "\n",
    "print(\"Last element:\", last_element)\n"
   ]
  },
  {
   "cell_type": "markdown",
   "id": "31393230",
   "metadata": {},
   "source": [
    "### Q33. Convert a tuple into a list."
   ]
  },
  {
   "cell_type": "code",
   "execution_count": 5,
   "id": "d419f723",
   "metadata": {},
   "outputs": [
    {
     "name": "stdout",
     "output_type": "stream",
     "text": [
      "['apple', 'banana', 'cherry']\n"
     ]
    }
   ],
   "source": [
    "tuple12 = ('apple', 'banana', 'cherry')\n",
    "my_list = list(tuple12)\n",
    "\n",
    "print(my_list)\n"
   ]
  },
  {
   "cell_type": "markdown",
   "id": "f2605bd7",
   "metadata": {},
   "source": [
    "### Q34. Convert a list into a tuple."
   ]
  },
  {
   "cell_type": "code",
   "execution_count": 24,
   "id": "2fc2424c",
   "metadata": {},
   "outputs": [
    {
     "ename": "TypeError",
     "evalue": "'str' object is not callable",
     "output_type": "error",
     "traceback": [
      "\u001b[1;31m---------------------------------------------------------------------------\u001b[0m",
      "\u001b[1;31mTypeError\u001b[0m                                 Traceback (most recent call last)",
      "Cell \u001b[1;32mIn[24], line 2\u001b[0m\n\u001b[0;32m      1\u001b[0m my_list_3 \u001b[38;5;241m=\u001b[39m [\u001b[38;5;124m'\u001b[39m\u001b[38;5;124mCairo\u001b[39m\u001b[38;5;124m'\u001b[39m, \u001b[38;5;124m'\u001b[39m\u001b[38;5;124mAlexandria\u001b[39m\u001b[38;5;124m'\u001b[39m, \u001b[38;5;124m'\u001b[39m\u001b[38;5;124mGiza\u001b[39m\u001b[38;5;124m'\u001b[39m]\n\u001b[1;32m----> 2\u001b[0m my_tuple_1 \u001b[38;5;241m=\u001b[39m \u001b[38;5;28mtuple\u001b[39m(my_list_3)\n\u001b[0;32m      3\u001b[0m \u001b[38;5;28mprint\u001b[39m(my_tuple_1)\n",
      "\u001b[1;31mTypeError\u001b[0m: 'str' object is not callable"
     ]
    }
   ],
   "source": [
    "my_list_3 = ['Cairo', 'Alexandria', 'Giza']\n",
    "my_tuple_1 = tuple(my_list_3)\n",
    "print(my_tuple_1)"
   ]
  },
  {
   "cell_type": "markdown",
   "id": "8ea26fed",
   "metadata": {},
   "source": [
    "### Q35. Check if a value exists in a tuple."
   ]
  },
  {
   "cell_type": "code",
   "execution_count": null,
   "id": "502ca8ef",
   "metadata": {},
   "outputs": [],
   "source": [
    "my_tuple = ('sun', 'moon', 'stars')\n",
    "\n",
    "if 'moon' in my_tuple:\n",
    "    print(\"'moon' is in the tuple.\")\n",
    "else:\n",
    "    print(\"'moon' is not in the tuple.\")"
   ]
  },
  {
   "cell_type": "markdown",
   "id": "1861d487",
   "metadata": {},
   "source": [
    "### Q36. Concatenate two tuples."
   ]
  },
  {
   "cell_type": "code",
   "execution_count": 25,
   "id": "25990032",
   "metadata": {},
   "outputs": [
    {
     "name": "stdout",
     "output_type": "stream",
     "text": [
      "(1, 2, 3, 4, 5, 6)\n"
     ]
    }
   ],
   "source": [
    "tuple1 = (1, 2, 3)\n",
    "tuple2 = (4, 5, 6)\n",
    "\n",
    "combined = tuple1 + tuple2\n",
    "\n",
    "print(combined)"
   ]
  },
  {
   "cell_type": "markdown",
   "id": "7a62f436",
   "metadata": {},
   "source": [
    "### Q37. Repeat a tuple 3 times."
   ]
  },
  {
   "cell_type": "code",
   "execution_count": null,
   "id": "1342d94a",
   "metadata": {},
   "outputs": [],
   "source": [
    "my_tuple = ('sun', 'moon')\n",
    "repeated_tuple = my_tuple * 3\n",
    "\n",
    "print(repeated_tuple)\n"
   ]
  },
  {
   "cell_type": "markdown",
   "id": "5d54389e",
   "metadata": {},
   "source": [
    "### Q38. Find the index of an element in a tuple."
   ]
  },
  {
   "cell_type": "code",
   "execution_count": 26,
   "id": "3dbcc47b",
   "metadata": {},
   "outputs": [
    {
     "name": "stdout",
     "output_type": "stream",
     "text": [
      "Index of 'banana': 1\n"
     ]
    }
   ],
   "source": [
    "my_tuple = ('apple', 'banana', 'cherry', 'banana')\n",
    "index_of_banana = my_tuple.index('banana')\n",
    "\n",
    "print(\"Index of 'banana':\", index_of_banana)"
   ]
  },
  {
   "cell_type": "markdown",
   "id": "41e0cb37",
   "metadata": {},
   "source": [
    "### Q39. Use tuple unpacking to assign values to variables."
   ]
  },
  {
   "cell_type": "code",
   "execution_count": 27,
   "id": "b38c6788",
   "metadata": {},
   "outputs": [
    {
     "name": "stdout",
     "output_type": "stream",
     "text": [
      "python\n",
      "3.11\n",
      "programming\n"
     ]
    }
   ],
   "source": [
    "my_tuple = ('python', 3.11, 'programming')\n",
    "language, version, topic = my_tuple\n",
    "\n",
    "print(language)\n",
    "print(version)\n",
    "print(topic)"
   ]
  },
  {
   "cell_type": "markdown",
   "id": "70b69ddd",
   "metadata": {},
   "source": [
    "### Q40. Create a nested list and access an inner element."
   ]
  },
  {
   "cell_type": "code",
   "execution_count": 28,
   "id": "0d05b3e7",
   "metadata": {},
   "outputs": [
    {
     "name": "stdout",
     "output_type": "stream",
     "text": [
      "mango\n"
     ]
    }
   ],
   "source": [
    "nested_list_1 = [\n",
    "    ['apple', 'banana'],\n",
    "    ['carrot', 'mango'],\n",
    "    ['eggplant', 'fennel']\n",
    "]\n",
    "\n",
    "print(nested_list_1[1][1])\n"
   ]
  },
  {
   "cell_type": "markdown",
   "id": "70256f64",
   "metadata": {},
   "source": [
    "### Q41. Create a set of 5 unique colors."
   ]
  },
  {
   "cell_type": "code",
   "execution_count": null,
   "id": "4be1c2bb",
   "metadata": {},
   "outputs": [],
   "source": [
    "colors = {'red', 'blue', 'green', 'yellow', 'purple'}\n",
    "print(colors)\n"
   ]
  },
  {
   "cell_type": "markdown",
   "id": "774bddd7",
   "metadata": {},
   "source": [
    "### Q42. Add a new color to the set."
   ]
  },
  {
   "cell_type": "code",
   "execution_count": 30,
   "id": "9129a921",
   "metadata": {},
   "outputs": [
    {
     "name": "stdout",
     "output_type": "stream",
     "text": [
      "{'orange', 'purple', 'red', 'blue', 'yellow', 'green'}\n"
     ]
    }
   ],
   "source": [
    "colors = {'red', 'blue', 'green', 'yellow', 'purple'}\n",
    "colors.add('orange')\n",
    "\n",
    "print(colors)\n"
   ]
  },
  {
   "cell_type": "markdown",
   "id": "3cc0470c",
   "metadata": {},
   "source": [
    "### Q43. Remove an item from the set using `remove()`."
   ]
  },
  {
   "cell_type": "code",
   "execution_count": 29,
   "id": "e85423ac",
   "metadata": {},
   "outputs": [
    {
     "name": "stdout",
     "output_type": "stream",
     "text": [
      "{'purple', 'red', 'blue', 'green'}\n"
     ]
    }
   ],
   "source": [
    "colors = {'red', 'blue', 'green', 'yellow', 'purple'}\n",
    "colors.remove('yellow')\n",
    "\n",
    "print(colors)\n"
   ]
  },
  {
   "cell_type": "markdown",
   "id": "b7047e3b",
   "metadata": {},
   "source": [
    "### Q44. Use `discard()` to remove an item that may or may not exist."
   ]
  },
  {
   "cell_type": "code",
   "execution_count": 31,
   "id": "adf2b3c2",
   "metadata": {},
   "outputs": [
    {
     "name": "stdout",
     "output_type": "stream",
     "text": [
      "{'yellow', 'green', 'red', 'blue'}\n"
     ]
    }
   ],
   "source": [
    "colors = {'red', 'blue', 'green', 'yellow'}\n",
    "colors.discard('orange') \n",
    "\n",
    "print(colors)\n"
   ]
  },
  {
   "cell_type": "markdown",
   "id": "0c0338ca",
   "metadata": {},
   "source": [
    "### Q45. Create a set from a list with duplicate values."
   ]
  },
  {
   "cell_type": "code",
   "execution_count": 32,
   "id": "6918aaf4",
   "metadata": {},
   "outputs": [
    {
     "name": "stdout",
     "output_type": "stream",
     "text": [
      "{'green', 'red', 'blue'}\n"
     ]
    }
   ],
   "source": [
    "my_list = ['red', 'blue', 'red', 'green', 'blue']\n",
    "unique_colors = set(my_list)\n",
    "\n",
    "print(unique_colors)\n"
   ]
  },
  {
   "cell_type": "markdown",
   "id": "531ece70",
   "metadata": {},
   "source": [
    "### Q46. Find the union of two sets."
   ]
  },
  {
   "cell_type": "code",
   "execution_count": 33,
   "id": "f7c8d3a1",
   "metadata": {},
   "outputs": [
    {
     "name": "stdout",
     "output_type": "stream",
     "text": [
      "{'date', 'cherry', 'fig', 'banana', 'apple'}\n"
     ]
    }
   ],
   "source": [
    "set1 = {'apple', 'banana', 'cherry'}\n",
    "set2 = {'banana', 'date', 'fig'}\n",
    "\n",
    "union_set = set1 | set2\n",
    "print(union_set)"
   ]
  },
  {
   "cell_type": "markdown",
   "id": "37ddac6b",
   "metadata": {},
   "source": [
    "### Q47. Find the intersection of two sets."
   ]
  },
  {
   "cell_type": "code",
   "execution_count": 34,
   "id": "cbb3d58f",
   "metadata": {},
   "outputs": [
    {
     "name": "stdout",
     "output_type": "stream",
     "text": [
      "{'green', 'blue'}\n"
     ]
    }
   ],
   "source": [
    "set1 = {'red', 'blue', 'green'}\n",
    "set2 = {'blue', 'yellow', 'green'}\n",
    "\n",
    "common_colors = set1 & set2\n",
    "print(common_colors)\n"
   ]
  },
  {
   "cell_type": "markdown",
   "id": "cfba12fb",
   "metadata": {},
   "source": [
    "### Q48. Find the difference between two sets."
   ]
  },
  {
   "cell_type": "code",
   "execution_count": 35,
   "id": "87d9d198",
   "metadata": {},
   "outputs": [
    {
     "name": "stdout",
     "output_type": "stream",
     "text": [
      "{'green', 'red'}\n"
     ]
    }
   ],
   "source": [
    "set1 = {'red', 'blue', 'green'}\n",
    "set2 = {'blue', 'yellow'}\n",
    "\n",
    "difference = set1 - set2\n",
    "print(difference)\n"
   ]
  },
  {
   "cell_type": "markdown",
   "id": "fe3124b5",
   "metadata": {},
   "source": [
    "### Q49. Check if a set is a subset of another set."
   ]
  },
  {
   "cell_type": "code",
   "execution_count": 36,
   "id": "9414638f",
   "metadata": {},
   "outputs": [
    {
     "name": "stdout",
     "output_type": "stream",
     "text": [
      "True\n"
     ]
    }
   ],
   "source": [
    "set1 = {'red', 'blue'}\n",
    "set2 = {'red', 'blue', 'green'}\n",
    "\n",
    "print(set1 <= set2)  "
   ]
  },
  {
   "cell_type": "markdown",
   "id": "3155bdce",
   "metadata": {},
   "source": [
    "### Q50. Check if two sets are disjoint."
   ]
  },
  {
   "cell_type": "code",
   "execution_count": 37,
   "id": "14b85863",
   "metadata": {},
   "outputs": [
    {
     "name": "stdout",
     "output_type": "stream",
     "text": [
      "True\n"
     ]
    }
   ],
   "source": [
    "set1 = {'circle', 'square'}\n",
    "set2 = {'triangle', 'hexagon'}\n",
    "\n",
    "print(set1.isdisjoint(set2)) "
   ]
  },
  {
   "cell_type": "markdown",
   "id": "bad362eb",
   "metadata": {},
   "source": [
    "### Q51. Create a dictionary with 3 items: name, age, and city."
   ]
  },
  {
   "cell_type": "code",
   "execution_count": 38,
   "id": "e2ae3ccd",
   "metadata": {},
   "outputs": [
    {
     "name": "stdout",
     "output_type": "stream",
     "text": [
      "{'name': 'Amina', 'age': 29, 'city': 'Cairo'}\n"
     ]
    }
   ],
   "source": [
    "diction = {\n",
    "    'name': 'Amina',\n",
    "    'age': 29,\n",
    "    'city': 'Cairo'\n",
    "}\n",
    "\n",
    "print(diction)\n"
   ]
  },
  {
   "cell_type": "markdown",
   "id": "222708fb",
   "metadata": {},
   "source": [
    "### Q52. Add a new key-value pair to the dictionary."
   ]
  },
  {
   "cell_type": "code",
   "execution_count": 39,
   "id": "f309e8a9",
   "metadata": {},
   "outputs": [
    {
     "name": "stdout",
     "output_type": "stream",
     "text": [
      "{'name': 'Amina', 'age': 29, 'city': 'Cairo', 'profession': 'Engineer'}\n"
     ]
    }
   ],
   "source": [
    "diction = {\n",
    "    'name': 'Amina',\n",
    "    'age': 29,\n",
    "    'city': 'Cairo'\n",
    "}\n",
    "diction['profession'] = 'Engineer'\n",
    "\n",
    "print(diction)\n"
   ]
  },
  {
   "cell_type": "markdown",
   "id": "608c6307",
   "metadata": {},
   "source": [
    "### Q53. Update the value of an existing key in the dictionary."
   ]
  },
  {
   "cell_type": "code",
   "execution_count": null,
   "id": "a47b25b9",
   "metadata": {},
   "outputs": [],
   "source": [
    "diction = {\n",
    "    'name': 'Amina',\n",
    "    'age': 29,\n",
    "    'city': 'Cairo'\n",
    "}\n",
    "diction['age'] = 30\n",
    "\n",
    "print(diction)"
   ]
  },
  {
   "cell_type": "markdown",
   "id": "99e23fe0",
   "metadata": {},
   "source": [
    "### Q54. Remove a key from the dictionary using `pop()`."
   ]
  },
  {
   "cell_type": "code",
   "execution_count": 40,
   "id": "eb851e69",
   "metadata": {},
   "outputs": [
    {
     "name": "stdout",
     "output_type": "stream",
     "text": [
      "{'name': 'Amina', 'age': 29}\n"
     ]
    }
   ],
   "source": [
    "diction = {\n",
    "    'name': 'Amina',\n",
    "    'age': 29,\n",
    "    'city': 'Cairo'\n",
    "}\n",
    "removed_value = diction.pop('city')\n",
    "\n",
    "print(diction)\n",
    "\n"
   ]
  },
  {
   "cell_type": "markdown",
   "id": "c84dbe1f",
   "metadata": {},
   "source": [
    "### Q55. Check if a key exists in the dictionary."
   ]
  },
  {
   "cell_type": "code",
   "execution_count": 41,
   "id": "6c8dfaec",
   "metadata": {},
   "outputs": [
    {
     "name": "stdout",
     "output_type": "stream",
     "text": [
      "Key 'age' exists!\n"
     ]
    }
   ],
   "source": [
    "diction = {\n",
    "    'name': 'Amina',\n",
    "    'age': 30,\n",
    "    'city': 'Cairo'\n",
    "}\n",
    "\n",
    "if 'age' in diction:\n",
    "    print(\"Key 'age' exists!\")\n",
    "else:\n",
    "    print(\"Key 'age' not found.\")"
   ]
  },
  {
   "cell_type": "markdown",
   "id": "430ec294",
   "metadata": {},
   "source": [
    "### Q56. Loop through a dictionary and print all keys and values."
   ]
  },
  {
   "cell_type": "code",
   "execution_count": 43,
   "id": "6795ec48",
   "metadata": {},
   "outputs": [
    {
     "name": "stdout",
     "output_type": "stream",
     "text": [
      "name : Amina\n",
      "age : 30\n",
      "city : Cairo\n"
     ]
    }
   ],
   "source": [
    "diction = {\n",
    "    'name': 'Amina',\n",
    "    'age': 30,\n",
    "    'city': 'Cairo'\n",
    "}\n",
    "\n",
    "for key, value in diction.items():\n",
    "    print(f\"{key} : {value}\")"
   ]
  },
  {
   "cell_type": "markdown",
   "id": "da3690bb",
   "metadata": {},
   "source": [
    "### Q57. Get all keys from a dictionary using `keys()`."
   ]
  },
  {
   "cell_type": "code",
   "execution_count": 44,
   "id": "cb54c698",
   "metadata": {},
   "outputs": [
    {
     "name": "stdout",
     "output_type": "stream",
     "text": [
      "dict_keys(['name', 'age', 'city'])\n"
     ]
    }
   ],
   "source": [
    "diction = {\n",
    "    'name': 'Amina',\n",
    "    'age': 30,\n",
    "    'city': 'Cairo'\n",
    "}\n",
    "\n",
    "keys = diction.keys()\n",
    "print(keys)\n"
   ]
  },
  {
   "cell_type": "markdown",
   "id": "d31b70c5",
   "metadata": {},
   "source": [
    "### Q58. Get all values from a dictionary using `values()`."
   ]
  },
  {
   "cell_type": "code",
   "execution_count": 46,
   "id": "3a766b70",
   "metadata": {},
   "outputs": [
    {
     "name": "stdout",
     "output_type": "stream",
     "text": [
      "dict_keys(['name', 'age', 'city'])\n"
     ]
    }
   ],
   "source": [
    "diction = {\n",
    "    'name': 'Amina',\n",
    "    'age': 30,\n",
    "    'city': 'Cairo'\n",
    "}\n",
    "\n",
    "values = diction.values()\n",
    "print(keys)"
   ]
  },
  {
   "cell_type": "markdown",
   "id": "b0a9ba1f",
   "metadata": {},
   "source": [
    "### Q59. Get all key-value pairs using `items()`."
   ]
  },
  {
   "cell_type": "code",
   "execution_count": 47,
   "id": "10080491",
   "metadata": {},
   "outputs": [
    {
     "name": "stdout",
     "output_type": "stream",
     "text": [
      "dict_items([('name', 'Amina'), ('age', 30), ('city', 'Cairo')])\n"
     ]
    }
   ],
   "source": [
    "diction = {\n",
    "    'name': 'Amina',\n",
    "    'age': 30,\n",
    "    'city': 'Cairo'\n",
    "}\n",
    "\n",
    "items = diction.items()\n",
    "print(items)\n"
   ]
  },
  {
   "cell_type": "markdown",
   "id": "58cd862e",
   "metadata": {},
   "source": [
    "### Q60. Create a dictionary from two lists: one for keys and one for values."
   ]
  },
  {
   "cell_type": "code",
   "execution_count": 48,
   "id": "24a5326f",
   "metadata": {},
   "outputs": [
    {
     "name": "stdout",
     "output_type": "stream",
     "text": [
      "{'name': 'Amina', 'age': 30, 'city': 'Cairo'}\n"
     ]
    }
   ],
   "source": [
    "keys = ['name', 'age', 'city']\n",
    "values = ['Amina', 30, 'Cairo']\n",
    "\n",
    "diction = dict(zip(keys, values))\n",
    "print(diction)"
   ]
  }
 ],
 "metadata": {
  "kernelspec": {
   "display_name": "Python 3",
   "language": "python",
   "name": "python3"
  },
  "language_info": {
   "codemirror_mode": {
    "name": "ipython",
    "version": 3
   },
   "file_extension": ".py",
   "mimetype": "text/x-python",
   "name": "python",
   "nbconvert_exporter": "python",
   "pygments_lexer": "ipython3",
   "version": "3.12.4"
  }
 },
 "nbformat": 4,
 "nbformat_minor": 5
}
